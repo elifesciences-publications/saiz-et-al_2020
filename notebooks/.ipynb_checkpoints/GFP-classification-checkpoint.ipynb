{
 "cells": [
  {
   "cell_type": "markdown",
   "metadata": {},
   "source": [
    "## Motivation\n",
    "\n",
    "In the experiment designed to test the independency of cell fate decisions in the ICM (see main text and Figure 1), we mix wild type embyro cells labelled with H2B-GFP and unlabelled cells (either wild type or Gata6 null). The presence (or absence) of GFP lets us identify the progeny of each initial population. Given that either population can represent any given fraction of the resulting chimeric embryo, manual scoring of GFP+ and GFP- cells becomes unreasonable. \n",
    "To automatically identify both subpopulations, we applied clustering methods to separate GFP+ and GFP- cells. GFP expression is variable due to mosaic expression of the transgene and to the noise in the image acquisition and  processing. Therefore a simple threshold is not enough to separate populations. Instead, we use clustering methods, which give a better result.  \n",
    "\n",
    "In this notebook, I compare the performance of three approaches, Hierarchical clustering, 1D and 2D K-means clustering, and show the rationale for the approach we ultimately used in the study."
   ]
  },
  {
   "cell_type": "code",
   "execution_count": null,
   "metadata": {},
   "outputs": [],
   "source": []
  }
 ],
 "metadata": {
  "kernelspec": {
   "display_name": "R",
   "language": "R",
   "name": "ir"
  },
  "language_info": {
   "codemirror_mode": "r",
   "file_extension": ".r",
   "mimetype": "text/x-r-source",
   "name": "R",
   "pygments_lexer": "r",
   "version": "3.6.1"
  }
 },
 "nbformat": 4,
 "nbformat_minor": 2
}
